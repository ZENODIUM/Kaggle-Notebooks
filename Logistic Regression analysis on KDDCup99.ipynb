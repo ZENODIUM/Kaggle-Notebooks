{
 "cells": [
  {
   "cell_type": "markdown",
   "id": "611d8f1e",
   "metadata": {
    "papermill": {
     "duration": 0.003411,
     "end_time": "2025-02-18T05:03:56.927243",
     "exception": false,
     "start_time": "2025-02-18T05:03:56.923832",
     "status": "completed"
    },
    "tags": []
   },
   "source": [
    "# Logistic Regression on KDDCup99 Dataset  \n",
    "\n",
    "This project involves training **Logistic Regression models** on the **KDDCup99** dataset to classify **Probe vs. Not Probe** network attacks. The KDDCup99 dataset contains a mix of normal and attack network traffic, with multiple classes of intrusions.  \n",
    "\n",
    "---\n",
    "\n",
    "## 📌 Objective  \n",
    "1. Train a **Logistic Regression model** to classify network intrusions as **Probe** or **Not Probe**  \n",
    "2. Apply **L1 and L2 Regularization** to compare performance  \n",
    "3. Analyze the **important features**  \n",
    "4. Experiment with **different dataset sizes** and evaluate model performance  \n",
    "\n",
    "---\n",
    "\n",
    "## 📥 Dataset Description  \n",
    "The dataset contains **network traffic records** categorized into multiple attack types.  \n",
    "For this task, we define two classes:  \n",
    "- **Probe Class:** Includes attacks like `ipsweep`, `nmap`, `portsweep`, etc.  \n",
    "- **Not Probe Class:** Includes all other attack types and normal traffic  \n",
    "\n",
    "### **Not Probe Classes in Dataset:**  \n",
    "'buffer_overflow.', 'loadmodule.', 'perl.', 'neptune.', 'smurf.', 'guess_passwd.', 'pod.', 'teardrop.', 'portsweep.', 'ipsweep.', 'land.', 'ftp_write.', 'back.', 'imap.', 'satan.', 'phf.', 'nmap.', 'multihop.', 'warezmaster.', 'warezclient.', 'spy.', 'rootkit.'\n",
    "\n",
    "\n",
    "---\n",
    "\n",
    "## 🛠️ Steps to Train the Model  \n",
    "\n",
    "### **1️⃣ Data Preprocessing**  \n",
    "- Load the dataset using **Pandas**  \n",
    "- Encode categorical variables using **One-Hot Encoding**  \n",
    "- Balance the dataset using **Random Undersampling** to avoid class imbalance  \n",
    "\n",
    "### **2️⃣ Train Logistic Regression Model**  \n",
    "- Train Logistic Regression using **Scikit-Learn**  \n",
    "- Use **80-20% Train-Test Split**  \n",
    "- Track accuracy and convergence  \n",
    "\n",
    "### **3️⃣ Apply L1 and L2 Regularization**  \n",
    "- Train models with both **L1 and L2 regularization**  \n",
    "- Compare performance metrics  \n",
    "\n",
    "### **4️⃣ Feature Importance Analysis**  \n",
    "- Identify the most influential features based on Logistic Regression weights  \n",
    "\n",
    "---\n",
    "\n",
    "## 📊 Results & Observations  \n",
    "\n",
    "\n",
    "## No overfitting:\n",
    "If the model were overfitting, we would expect high training accuracy but much lower testing accuracy. Here, both values are almost identical. and the model converges after 80 iterations\n",
    "\n",
    "### **📌 Full Dataset (After Undersampling)**\n",
    "- **Training Accuracy:** `0.9991`  \n",
    "- **Testing Accuracy:** `0.9991`  \n",
    "- **Iterations to Converge:** `80`  \n",
    "- **L1 Regularization Accuracy:**  \n",
    "  - Training: `0.9991`, Testing: `0.9991`  \n",
    "- **L2 Regularization Accuracy:**  \n",
    "  - Training: `0.9991`, Testing: `0.9991`  \n",
    "\n",
    "---\n",
    "\n",
    "### **📌 10% of Dataset**\n",
    "- **Training Accuracy:** `0.9983`  \n",
    "- **Testing Accuracy:** `0.9982`  \n",
    "- **L1 Regularization Accuracy:**  \n",
    "  - Training: `0.9982`, Testing: `0.9982`  \n",
    "- **L2 Regularization Accuracy:**  \n",
    "  - Training: `0.9982`, Testing: `0.9981`  \n",
    "\n",
    "🔍 **Key Finding:** The model performs exceptionally well even with just **10% of the dataset**, indicating that Logistic Regression is effective for this task.  \n",
    "\n",
    "---\n",
    "\n",
    "## 🔑 Most Important Features\n",
    "After analyzing the model's coefficients, the most **informative features** were:  \n",
    "- **`count`** – Number of connections to the same host  \n",
    "- **`service_private`** – Whether the connection used a private service  \n",
    "- **`is_guest_login`** – Whether the login was from a guest account  \n",
    "\n",
    "These features are crucial in detecting **probing attacks**, as attackers often scan network services before launching targeted attacks, guest login, private connections and number of connections are the main factors, if the number of connection to same host is more, then there is high possibility of hacker activity..  \n",
    "\n",
    "---\n",
    "\n",
    "## 📈 Regularization Comparison\n",
    "We experimented with both **L1 (Lasso) and L2 (Ridge) regularization**:  \n",
    "- **L1 Regularization** helped in feature selection (some weights became 0)  \n",
    "- **L2 Regularization** improved model stability but retained all features  \n",
    "\n",
    "Both regularization methods produced similar **accuracy scores**.\n",
    "\n",
    "- Increasing C reduces regularization, which can lead to overfitting, while lower C values improve generalization.\n",
    "---\n",
    "\n",
    "## 🤔 Conclusions & Learnings\n",
    "✅ **Logistic Regression is highly effective** for network intrusion detection, achieving **>99% accuracy**  \n",
    "✅ **Dataset balancing** (undersampling) is necessary to prevent bias  \n",
    "✅ **Feature importance analysis** helped identify key network attributes used by attackers  \n",
    "✅ **Even 10% of the data was sufficient** to train a robust model  \n",
    "\n",
    "This experiment demonstrates the power of **Logistic Regression and feature selection** in cybersecurity applications\n"
   ]
  },
  {
   "cell_type": "markdown",
   "id": "6195f1b5",
   "metadata": {
    "papermill": {
     "duration": 0.002517,
     "end_time": "2025-02-18T05:03:56.932771",
     "exception": false,
     "start_time": "2025-02-18T05:03:56.930254",
     "status": "completed"
    },
    "tags": []
   },
   "source": [
    "# Dataset loading 📈"
   ]
  },
  {
   "cell_type": "code",
   "execution_count": 1,
   "id": "52c05f57",
   "metadata": {
    "_cell_guid": "b1076dfc-b9ad-4769-8c92-a6c4dae69d19",
    "_uuid": "8f2839f25d086af736a60e9eeb907d3b93b6e0e5",
    "execution": {
     "iopub.execute_input": "2025-02-18T05:03:56.939171Z",
     "iopub.status.busy": "2025-02-18T05:03:56.938859Z",
     "iopub.status.idle": "2025-02-18T05:04:01.728132Z",
     "shell.execute_reply": "2025-02-18T05:04:01.727241Z"
    },
    "papermill": {
     "duration": 4.793995,
     "end_time": "2025-02-18T05:04:01.729389",
     "exception": false,
     "start_time": "2025-02-18T05:03:56.935394",
     "status": "completed"
    },
    "tags": []
   },
   "outputs": [
    {
     "name": "stdout",
     "output_type": "stream",
     "text": [
      "Dataset Shape: (494021, 42)\n"
     ]
    },
    {
     "data": {
      "text/html": [
       "<div>\n",
       "<style scoped>\n",
       "    .dataframe tbody tr th:only-of-type {\n",
       "        vertical-align: middle;\n",
       "    }\n",
       "\n",
       "    .dataframe tbody tr th {\n",
       "        vertical-align: top;\n",
       "    }\n",
       "\n",
       "    .dataframe thead th {\n",
       "        text-align: right;\n",
       "    }\n",
       "</style>\n",
       "<table border=\"1\" class=\"dataframe\">\n",
       "  <thead>\n",
       "    <tr style=\"text-align: right;\">\n",
       "      <th></th>\n",
       "      <th>duration</th>\n",
       "      <th>protocol_type</th>\n",
       "      <th>service</th>\n",
       "      <th>flag</th>\n",
       "      <th>src_bytes</th>\n",
       "      <th>dst_bytes</th>\n",
       "      <th>land</th>\n",
       "      <th>wrong_fragment</th>\n",
       "      <th>urgent</th>\n",
       "      <th>hot</th>\n",
       "      <th>...</th>\n",
       "      <th>dst_host_srv_count</th>\n",
       "      <th>dst_host_same_srv_rate</th>\n",
       "      <th>dst_host_diff_srv_rate</th>\n",
       "      <th>dst_host_same_src_port_rate</th>\n",
       "      <th>dst_host_srv_diff_host_rate</th>\n",
       "      <th>dst_host_serror_rate</th>\n",
       "      <th>dst_host_srv_serror_rate</th>\n",
       "      <th>dst_host_rerror_rate</th>\n",
       "      <th>dst_host_srv_rerror_rate</th>\n",
       "      <th>label</th>\n",
       "    </tr>\n",
       "  </thead>\n",
       "  <tbody>\n",
       "    <tr>\n",
       "      <th>0</th>\n",
       "      <td>0</td>\n",
       "      <td>tcp</td>\n",
       "      <td>http</td>\n",
       "      <td>SF</td>\n",
       "      <td>181</td>\n",
       "      <td>5450</td>\n",
       "      <td>0</td>\n",
       "      <td>0</td>\n",
       "      <td>0</td>\n",
       "      <td>0</td>\n",
       "      <td>...</td>\n",
       "      <td>9</td>\n",
       "      <td>1.0</td>\n",
       "      <td>0.0</td>\n",
       "      <td>0.11</td>\n",
       "      <td>0.0</td>\n",
       "      <td>0.0</td>\n",
       "      <td>0.0</td>\n",
       "      <td>0.0</td>\n",
       "      <td>0.0</td>\n",
       "      <td>normal.</td>\n",
       "    </tr>\n",
       "    <tr>\n",
       "      <th>1</th>\n",
       "      <td>0</td>\n",
       "      <td>tcp</td>\n",
       "      <td>http</td>\n",
       "      <td>SF</td>\n",
       "      <td>239</td>\n",
       "      <td>486</td>\n",
       "      <td>0</td>\n",
       "      <td>0</td>\n",
       "      <td>0</td>\n",
       "      <td>0</td>\n",
       "      <td>...</td>\n",
       "      <td>19</td>\n",
       "      <td>1.0</td>\n",
       "      <td>0.0</td>\n",
       "      <td>0.05</td>\n",
       "      <td>0.0</td>\n",
       "      <td>0.0</td>\n",
       "      <td>0.0</td>\n",
       "      <td>0.0</td>\n",
       "      <td>0.0</td>\n",
       "      <td>normal.</td>\n",
       "    </tr>\n",
       "    <tr>\n",
       "      <th>2</th>\n",
       "      <td>0</td>\n",
       "      <td>tcp</td>\n",
       "      <td>http</td>\n",
       "      <td>SF</td>\n",
       "      <td>235</td>\n",
       "      <td>1337</td>\n",
       "      <td>0</td>\n",
       "      <td>0</td>\n",
       "      <td>0</td>\n",
       "      <td>0</td>\n",
       "      <td>...</td>\n",
       "      <td>29</td>\n",
       "      <td>1.0</td>\n",
       "      <td>0.0</td>\n",
       "      <td>0.03</td>\n",
       "      <td>0.0</td>\n",
       "      <td>0.0</td>\n",
       "      <td>0.0</td>\n",
       "      <td>0.0</td>\n",
       "      <td>0.0</td>\n",
       "      <td>normal.</td>\n",
       "    </tr>\n",
       "    <tr>\n",
       "      <th>3</th>\n",
       "      <td>0</td>\n",
       "      <td>tcp</td>\n",
       "      <td>http</td>\n",
       "      <td>SF</td>\n",
       "      <td>219</td>\n",
       "      <td>1337</td>\n",
       "      <td>0</td>\n",
       "      <td>0</td>\n",
       "      <td>0</td>\n",
       "      <td>0</td>\n",
       "      <td>...</td>\n",
       "      <td>39</td>\n",
       "      <td>1.0</td>\n",
       "      <td>0.0</td>\n",
       "      <td>0.03</td>\n",
       "      <td>0.0</td>\n",
       "      <td>0.0</td>\n",
       "      <td>0.0</td>\n",
       "      <td>0.0</td>\n",
       "      <td>0.0</td>\n",
       "      <td>normal.</td>\n",
       "    </tr>\n",
       "    <tr>\n",
       "      <th>4</th>\n",
       "      <td>0</td>\n",
       "      <td>tcp</td>\n",
       "      <td>http</td>\n",
       "      <td>SF</td>\n",
       "      <td>217</td>\n",
       "      <td>2032</td>\n",
       "      <td>0</td>\n",
       "      <td>0</td>\n",
       "      <td>0</td>\n",
       "      <td>0</td>\n",
       "      <td>...</td>\n",
       "      <td>49</td>\n",
       "      <td>1.0</td>\n",
       "      <td>0.0</td>\n",
       "      <td>0.02</td>\n",
       "      <td>0.0</td>\n",
       "      <td>0.0</td>\n",
       "      <td>0.0</td>\n",
       "      <td>0.0</td>\n",
       "      <td>0.0</td>\n",
       "      <td>normal.</td>\n",
       "    </tr>\n",
       "  </tbody>\n",
       "</table>\n",
       "<p>5 rows × 42 columns</p>\n",
       "</div>"
      ],
      "text/plain": [
       "   duration protocol_type service flag  src_bytes  dst_bytes  land  \\\n",
       "0         0           tcp    http   SF        181       5450     0   \n",
       "1         0           tcp    http   SF        239        486     0   \n",
       "2         0           tcp    http   SF        235       1337     0   \n",
       "3         0           tcp    http   SF        219       1337     0   \n",
       "4         0           tcp    http   SF        217       2032     0   \n",
       "\n",
       "   wrong_fragment  urgent  hot  ...  dst_host_srv_count  \\\n",
       "0               0       0    0  ...                   9   \n",
       "1               0       0    0  ...                  19   \n",
       "2               0       0    0  ...                  29   \n",
       "3               0       0    0  ...                  39   \n",
       "4               0       0    0  ...                  49   \n",
       "\n",
       "   dst_host_same_srv_rate  dst_host_diff_srv_rate  \\\n",
       "0                     1.0                     0.0   \n",
       "1                     1.0                     0.0   \n",
       "2                     1.0                     0.0   \n",
       "3                     1.0                     0.0   \n",
       "4                     1.0                     0.0   \n",
       "\n",
       "   dst_host_same_src_port_rate  dst_host_srv_diff_host_rate  \\\n",
       "0                         0.11                          0.0   \n",
       "1                         0.05                          0.0   \n",
       "2                         0.03                          0.0   \n",
       "3                         0.03                          0.0   \n",
       "4                         0.02                          0.0   \n",
       "\n",
       "   dst_host_serror_rate  dst_host_srv_serror_rate  dst_host_rerror_rate  \\\n",
       "0                   0.0                       0.0                   0.0   \n",
       "1                   0.0                       0.0                   0.0   \n",
       "2                   0.0                       0.0                   0.0   \n",
       "3                   0.0                       0.0                   0.0   \n",
       "4                   0.0                       0.0                   0.0   \n",
       "\n",
       "   dst_host_srv_rerror_rate    label  \n",
       "0                       0.0  normal.  \n",
       "1                       0.0  normal.  \n",
       "2                       0.0  normal.  \n",
       "3                       0.0  normal.  \n",
       "4                       0.0  normal.  \n",
       "\n",
       "[5 rows x 42 columns]"
      ]
     },
     "execution_count": 1,
     "metadata": {},
     "output_type": "execute_result"
    }
   ],
   "source": [
    "\n",
    "import pandas as pd\n",
    "import numpy as np\n",
    "import matplotlib.pyplot as plt\n",
    "import seaborn as sns\n",
    "from sklearn.model_selection import train_test_split\n",
    "from sklearn.preprocessing import LabelEncoder, OneHotEncoder, StandardScaler\n",
    "from sklearn.linear_model import LogisticRegression\n",
    "from sklearn.metrics import accuracy_score, classification_report\n",
    "from imblearn.under_sampling import RandomUnderSampler\n",
    "\n",
    "import warnings\n",
    "warnings.filterwarnings(\"ignore\")\n",
    "\n",
    "# Switch between 10 percent and full dataset!!\n",
    "\n",
    "url = \"http://kdd.ics.uci.edu/databases/kddcup99/kddcup.data_10_percent.gz\"\n",
    "#url = \"http://kdd.ics.uci.edu/databases/kddcup99/kddcup.data.gz\"\n",
    "\n",
    "columns = [\n",
    "    \"duration\", \"protocol_type\", \"service\", \"flag\", \"src_bytes\", \"dst_bytes\", \n",
    "    \"land\", \"wrong_fragment\", \"urgent\", \"hot\", \"num_failed_logins\", \n",
    "    \"logged_in\", \"num_compromised\", \"root_shell\", \"su_attempted\", \"num_root\", \n",
    "    \"num_file_creations\", \"num_shells\", \"num_access_files\", \"num_outbound_cmds\", \n",
    "    \"is_host_login\", \"is_guest_login\", \"count\", \"srv_count\", \"serror_rate\", \n",
    "    \"srv_serror_rate\", \"rerror_rate\", \"srv_rerror_rate\", \"same_srv_rate\", \n",
    "    \"diff_srv_rate\", \"srv_diff_host_rate\", \"dst_host_count\", \"dst_host_srv_count\", \n",
    "    \"dst_host_same_srv_rate\", \"dst_host_diff_srv_rate\", \"dst_host_same_src_port_rate\", \n",
    "    \"dst_host_srv_diff_host_rate\", \"dst_host_serror_rate\", \"dst_host_srv_serror_rate\", \n",
    "    \"dst_host_rerror_rate\", \"dst_host_srv_rerror_rate\", \"label\"\n",
    "]\n",
    "\n",
    "\n",
    "df = pd.read_csv(url, names=columns)\n",
    "\n",
    "\n",
    "print(f\"Dataset Shape: {df.shape}\")\n",
    "df.head()\n"
   ]
  },
  {
   "cell_type": "code",
   "execution_count": 2,
   "id": "1e93535a",
   "metadata": {
    "execution": {
     "iopub.execute_input": "2025-02-18T05:04:01.736591Z",
     "iopub.status.busy": "2025-02-18T05:04:01.736334Z",
     "iopub.status.idle": "2025-02-18T05:04:01.766297Z",
     "shell.execute_reply": "2025-02-18T05:04:01.765456Z"
    },
    "papermill": {
     "duration": 0.03475,
     "end_time": "2025-02-18T05:04:01.767520",
     "exception": false,
     "start_time": "2025-02-18T05:04:01.732770",
     "status": "completed"
    },
    "tags": []
   },
   "outputs": [
    {
     "data": {
      "text/plain": [
       "array(['normal.', 'buffer_overflow.', 'loadmodule.', 'perl.', 'neptune.',\n",
       "       'smurf.', 'guess_passwd.', 'pod.', 'teardrop.', 'portsweep.',\n",
       "       'ipsweep.', 'land.', 'ftp_write.', 'back.', 'imap.', 'satan.',\n",
       "       'phf.', 'nmap.', 'multihop.', 'warezmaster.', 'warezclient.',\n",
       "       'spy.', 'rootkit.'], dtype=object)"
      ]
     },
     "execution_count": 2,
     "metadata": {},
     "output_type": "execute_result"
    }
   ],
   "source": [
    "df[\"label\"].unique()"
   ]
  },
  {
   "cell_type": "markdown",
   "id": "8a618586",
   "metadata": {
    "papermill": {
     "duration": 0.002961,
     "end_time": "2025-02-18T05:04:01.773760",
     "exception": false,
     "start_time": "2025-02-18T05:04:01.770799",
     "status": "completed"
    },
    "tags": []
   },
   "source": [
    "# Undersampling"
   ]
  },
  {
   "cell_type": "code",
   "execution_count": 3,
   "id": "a8e7ac2d",
   "metadata": {
    "execution": {
     "iopub.execute_input": "2025-02-18T05:04:01.780521Z",
     "iopub.status.busy": "2025-02-18T05:04:01.780272Z",
     "iopub.status.idle": "2025-02-18T05:04:06.908969Z",
     "shell.execute_reply": "2025-02-18T05:04:06.908075Z"
    },
    "papermill": {
     "duration": 5.13372,
     "end_time": "2025-02-18T05:04:06.910451",
     "exception": false,
     "start_time": "2025-02-18T05:04:01.776731",
     "status": "completed"
    },
    "tags": []
   },
   "outputs": [
    {
     "name": "stdout",
     "output_type": "stream",
     "text": [
      "Class distribution after undersampling: [97278 97278]\n"
     ]
    }
   ],
   "source": [
    "\n",
    "probe_attacks = ['buffer_overflow.', 'loadmodule.', 'perl.', 'neptune.',\n",
    "       'smurf.', 'guess_passwd.', 'pod.', 'teardrop.', 'portsweep.',\n",
    "       'ipsweep.', 'land.', 'ftp_write.', 'back.', 'imap.', 'satan.',\n",
    "       'phf.', 'nmap.', 'multihop.', 'warezmaster.', 'warezclient.',\n",
    "       'spy.', 'rootkit.']\n",
    "df['binary_label'] = df['label'].apply(lambda x: 1 if x in probe_attacks else 0)\n",
    "\n",
    "df.drop(columns=['label'], inplace=True)\n",
    "\n",
    "categorical_features = ['protocol_type', 'service', 'flag']\n",
    "df = pd.get_dummies(df, columns=categorical_features, drop_first=True)\n",
    "\n",
    "\n",
    "scaler = StandardScaler()\n",
    "numerical_features = [col for col in df.columns if col not in ['binary_label']]\n",
    "df[numerical_features] = scaler.fit_transform(df[numerical_features])\n",
    "\n",
    "X = df.drop(columns=['binary_label'])\n",
    "y = df['binary_label']\n",
    "\n",
    "undersampler = RandomUnderSampler(random_state=42)\n",
    "X_resampled, y_resampled = undersampler.fit_resample(X, y)\n",
    "\n",
    "X_train, X_test, y_train, y_test = train_test_split(X_resampled, y_resampled, test_size=0.2, random_state=42)\n",
    "\n",
    "print(f\"Class distribution after undersampling: {np.bincount(y_resampled)}\")\n"
   ]
  },
  {
   "cell_type": "markdown",
   "id": "644cb7d0",
   "metadata": {
    "papermill": {
     "duration": 0.003252,
     "end_time": "2025-02-18T05:04:06.917325",
     "exception": false,
     "start_time": "2025-02-18T05:04:06.914073",
     "status": "completed"
    },
    "tags": []
   },
   "source": [
    "# Logistic regression"
   ]
  },
  {
   "cell_type": "code",
   "execution_count": 4,
   "id": "1da9168d",
   "metadata": {
    "execution": {
     "iopub.execute_input": "2025-02-18T05:04:06.924558Z",
     "iopub.status.busy": "2025-02-18T05:04:06.924326Z",
     "iopub.status.idle": "2025-02-18T05:04:16.217957Z",
     "shell.execute_reply": "2025-02-18T05:04:16.216893Z"
    },
    "papermill": {
     "duration": 9.299092,
     "end_time": "2025-02-18T05:04:16.219643",
     "exception": false,
     "start_time": "2025-02-18T05:04:06.920551",
     "status": "completed"
    },
    "tags": []
   },
   "outputs": [
    {
     "name": "stdout",
     "output_type": "stream",
     "text": [
      "Training Accuracy: 0.9983\n",
      "Testing Accuracy: 0.9982\n",
      "Number of iterations to converge: [500]\n"
     ]
    }
   ],
   "source": [
    "\n",
    "log_reg = LogisticRegression(max_iter=500, random_state=42)\n",
    "log_reg.fit(X_train, y_train)\n",
    "\n",
    "y_train_pred = log_reg.predict(X_train)\n",
    "y_test_pred = log_reg.predict(X_test)\n",
    "\n",
    "train_acc = accuracy_score(y_train, y_train_pred)\n",
    "test_acc = accuracy_score(y_test, y_test_pred)\n",
    "\n",
    "print(f\"Training Accuracy: {train_acc:.4f}\")\n",
    "print(f\"Testing Accuracy: {test_acc:.4f}\")\n",
    "print(f\"Number of iterations to converge: {log_reg.n_iter_}\")\n"
   ]
  },
  {
   "cell_type": "markdown",
   "id": "7e1cc490",
   "metadata": {
    "papermill": {
     "duration": 0.003618,
     "end_time": "2025-02-18T05:04:16.227994",
     "exception": false,
     "start_time": "2025-02-18T05:04:16.224376",
     "status": "completed"
    },
    "tags": []
   },
   "source": [
    "# Cruical Features ⚠️"
   ]
  },
  {
   "cell_type": "code",
   "execution_count": 5,
   "id": "076ea4d7",
   "metadata": {
    "execution": {
     "iopub.execute_input": "2025-02-18T05:04:16.236592Z",
     "iopub.status.busy": "2025-02-18T05:04:16.236197Z",
     "iopub.status.idle": "2025-02-18T05:04:16.524014Z",
     "shell.execute_reply": "2025-02-18T05:04:16.523222Z"
    },
    "papermill": {
     "duration": 0.293629,
     "end_time": "2025-02-18T05:04:16.525567",
     "exception": false,
     "start_time": "2025-02-18T05:04:16.231938",
     "status": "completed"
    },
    "tags": []
   },
   "outputs": [
    {
     "data": {
      "image/png": "[encoded data removed]",
      "text/plain": [
       "<Figure size 1000x500 with 1 Axes>"
      ]
     },
     "metadata": {},
     "output_type": "display_data"
    }
   ],
   "source": [
    "\n",
    "feature_weights = pd.DataFrame({'Feature': X_train.columns, 'Weight': log_reg.coef_[0]})\n",
    "feature_weights['Abs_Weight'] = feature_weights['Weight'].abs()\n",
    "\n",
    "feature_weights = feature_weights.sort_values(by='Abs_Weight', ascending=False)\n",
    "\n",
    "plt.figure(figsize=(10, 5))\n",
    "sns.barplot(x='Weight', y='Feature', data=feature_weights.head(10))\n",
    "plt.title('Top 10 Most Important Features')\n",
    "plt.xlabel('Weight')\n",
    "plt.ylabel('Feature')\n",
    "plt.show()\n"
   ]
  },
  {
   "cell_type": "markdown",
   "id": "4cfaa0cc",
   "metadata": {
    "papermill": {
     "duration": 0.003809,
     "end_time": "2025-02-18T05:04:16.533747",
     "exception": false,
     "start_time": "2025-02-18T05:04:16.529938",
     "status": "completed"
    },
    "tags": []
   },
   "source": [
    "# L1 and L2 Regularization"
   ]
  },
  {
   "cell_type": "code",
   "execution_count": 6,
   "id": "8481d8ff",
   "metadata": {
    "execution": {
     "iopub.execute_input": "2025-02-18T05:04:16.542367Z",
     "iopub.status.busy": "2025-02-18T05:04:16.541986Z",
     "iopub.status.idle": "2025-02-18T05:05:57.963847Z",
     "shell.execute_reply": "2025-02-18T05:05:57.962943Z"
    },
    "papermill": {
     "duration": 101.431072,
     "end_time": "2025-02-18T05:05:57.968595",
     "exception": false,
     "start_time": "2025-02-18T05:04:16.537523",
     "status": "completed"
    },
    "tags": []
   },
   "outputs": [
    {
     "name": "stdout",
     "output_type": "stream",
     "text": [
      "L1 Regularization - Training Accuracy: 0.9982, Testing Accuracy: 0.9982\n",
      "L2 Regularization - Training Accuracy: 0.9982, Testing Accuracy: 0.9981\n"
     ]
    }
   ],
   "source": [
    "\n",
    "log_reg_l1 = LogisticRegression(penalty='l1', solver='liblinear', max_iter=500, random_state=42)\n",
    "log_reg_l2 = LogisticRegression(penalty='l2', solver='liblinear', max_iter=500, random_state=42)\n",
    "\n",
    "log_reg_l1.fit(X_train, y_train)\n",
    "log_reg_l2.fit(X_train, y_train)\n",
    "\n",
    "train_acc_l1 = accuracy_score(y_train, log_reg_l1.predict(X_train))\n",
    "test_acc_l1 = accuracy_score(y_test, log_reg_l1.predict(X_test))\n",
    "\n",
    "train_acc_l2 = accuracy_score(y_train, log_reg_l2.predict(X_train))\n",
    "test_acc_l2 = accuracy_score(y_test, log_reg_l2.predict(X_test))\n",
    "\n",
    "print(f\"L1 Regularization - Training Accuracy: {train_acc_l1:.4f}, Testing Accuracy: {test_acc_l1:.4f}\")\n",
    "print(f\"L2 Regularization - Training Accuracy: {train_acc_l2:.4f}, Testing Accuracy: {test_acc_l2:.4f}\")\n"
   ]
  },
  {
   "cell_type": "markdown",
   "id": "782b8aec",
   "metadata": {
    "papermill": {
     "duration": 0.003753,
     "end_time": "2025-02-18T05:05:57.976641",
     "exception": false,
     "start_time": "2025-02-18T05:05:57.972888",
     "status": "completed"
    },
    "tags": []
   },
   "source": [
    "# Different C values for L2 Regularization"
   ]
  },
  {
   "cell_type": "code",
   "execution_count": 7,
   "id": "d74309c2",
   "metadata": {
    "execution": {
     "iopub.execute_input": "2025-02-18T05:05:57.985391Z",
     "iopub.status.busy": "2025-02-18T05:05:57.985087Z",
     "iopub.status.idle": "2025-02-18T05:09:42.563636Z",
     "shell.execute_reply": "2025-02-18T05:09:42.562751Z"
    },
    "papermill": {
     "duration": 224.58954,
     "end_time": "2025-02-18T05:09:42.570143",
     "exception": false,
     "start_time": "2025-02-18T05:05:57.980603",
     "status": "completed"
    },
    "tags": []
   },
   "outputs": [
    {
     "data": {
      "image/png": "[encoded data removed]",
      "text/plain": [
       "<Figure size 800x500 with 1 Axes>"
      ]
     },
     "metadata": {},
     "output_type": "display_data"
    }
   ],
   "source": [
    "\n",
    "C_values = [0.001, 0.01, 0.1, 1, 10]\n",
    "train_accuracies = []\n",
    "test_accuracies = []\n",
    "\n",
    "for C in C_values:\n",
    "    model = LogisticRegression(penalty='l2', C=C, solver='liblinear', max_iter=500, random_state=42)\n",
    "    model.fit(X_train, y_train)\n",
    "    \n",
    "    train_accuracies.append(accuracy_score(y_train, model.predict(X_train)))\n",
    "    test_accuracies.append(accuracy_score(y_test, model.predict(X_test)))\n",
    "\n",
    "plt.figure(figsize=(8, 5))\n",
    "plt.plot(C_values, train_accuracies, marker='o', label='Train Accuracy')\n",
    "plt.plot(C_values, test_accuracies, marker='s', label='Test Accuracy')\n",
    "plt.xscale('log')\n",
    "plt.xlabel('Regularization Strength (C)')\n",
    "plt.ylabel('Accuracy')\n",
    "plt.title('Effect of L2 Regularization on Accuracy')\n",
    "plt.legend()\n",
    "plt.show()\n"
   ]
  },
  {
   "cell_type": "code",
   "execution_count": null,
   "id": "52b1e891",
   "metadata": {
    "papermill": {
     "duration": 0.004669,
     "end_time": "2025-02-18T05:09:42.579905",
     "exception": false,
     "start_time": "2025-02-18T05:09:42.575236",
     "status": "completed"
    },
    "tags": []
   },
   "outputs": [],
   "source": []
  }
 ],
 "metadata": {
  "kaggle": {
   "accelerator": "gpu",
   "dataSources": [],
   "dockerImageVersionId": 30887,
   "isGpuEnabled": true,
   "isInternetEnabled": true,
   "language": "python",
   "sourceType": "notebook"
  },
  "kernelspec": {
   "display_name": "Python 3",
   "language": "python",
   "name": "python3"
  },
  "language_info": {
   "codemirror_mode": {
    "name": "ipython",
    "version": 3
   },
   "file_extension": ".py",
   "mimetype": "text/x-python",
   "name": "python",
   "nbconvert_exporter": "python",
   "pygments_lexer": "ipython3",
   "version": "3.10.12"
  },
  "papermill": {
   "default_parameters": {},
   "duration": 348.948377,
   "end_time": "2025-02-18T05:09:43.303459",
   "environment_variables": {},
   "exception": null,
   "input_path": "__notebook__.ipynb",
   "output_path": "__notebook__.ipynb",
   "parameters": {},
   "start_time": "2025-02-18T05:03:54.355082",
   "version": "2.6.0"
  }
 },
 "nbformat": 4,
 "nbformat_minor": 5
}
